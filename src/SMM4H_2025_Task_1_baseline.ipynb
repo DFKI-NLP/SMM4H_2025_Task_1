{
 "cells": [
  {
   "cell_type": "code",
   "execution_count": null,
   "id": "78ab3cf0-a73e-4990-96e8-0b3b5ad60210",
   "metadata": {},
   "outputs": [],
   "source": [
    "#!pip install -r requirements.txt"
   ]
  },
  {
   "cell_type": "code",
   "execution_count": null,
   "id": "06ebe9a8-8904-4d43-a99c-b7517a06577a",
   "metadata": {},
   "outputs": [],
   "source": [
    "import pandas as pd\n",
    "import matplotlib.pyplot as plt\n",
    "import seaborn as sns"
   ]
  },
  {
   "cell_type": "markdown",
   "id": "626d6489-6528-490d-93d5-7deaf12e9e5c",
   "metadata": {},
   "source": [
    "## What is this notebook for?\n",
    "\n",
    "This notebook showcases the loading of data, inference using our baseline model, evaluation of the predictions and dumping the predictions in the format required for upload on CodaLab."
   ]
  },
  {
   "cell_type": "code",
   "execution_count": null,
   "id": "d2f465c7-9002-451b-afc4-b9f6246a9987",
   "metadata": {},
   "outputs": [],
   "source": []
  },
  {
   "cell_type": "markdown",
   "id": "a7a03804-ca16-429e-acbc-aa0b269b0cc4",
   "metadata": {},
   "source": [
    "# Data Analysis"
   ]
  },
  {
   "cell_type": "markdown",
   "id": "ce299074-7528-49a0-aeba-7db11bbb418d",
   "metadata": {},
   "source": [
    "## Examples"
   ]
  },
  {
   "cell_type": "code",
   "execution_count": null,
   "id": "48cb50f0-96ff-47dd-852c-e34e251696d1",
   "metadata": {},
   "outputs": [],
   "source": [
    "# load the data as a pandas dataframe"
   ]
  },
  {
   "cell_type": "code",
   "execution_count": null,
   "id": "ede4a53e-d234-4f1c-bd53-60c7b54f12f5",
   "metadata": {},
   "outputs": [],
   "source": [
    "# plot the number of examples per train/dev set across languages"
   ]
  },
  {
   "cell_type": "code",
   "execution_count": null,
   "id": "74883bbd-bce6-41d2-855e-90d4a4033e18",
   "metadata": {},
   "outputs": [],
   "source": [
    "# plot the number of examples per train/dev per language"
   ]
  },
  {
   "cell_type": "code",
   "execution_count": 1,
   "id": "0aff5348-f0e1-40f0-9bf5-7e829aaab877",
   "metadata": {},
   "outputs": [],
   "source": [
    "# load the data as a pandas dataframe, show one random example of each language for each label"
   ]
  },
  {
   "cell_type": "markdown",
   "id": "32c6a2cd-cd4d-4adc-8ddb-9bf7899ce6d6",
   "metadata": {},
   "source": [
    "## Label Distribution"
   ]
  },
  {
   "cell_type": "code",
   "execution_count": 4,
   "id": "75021195-e672-49ba-8930-e0879f4da206",
   "metadata": {},
   "outputs": [],
   "source": [
    "# plot the label distribution for the training and development sets (each one plot) across languages"
   ]
  },
  {
   "cell_type": "code",
   "execution_count": null,
   "id": "95c10487-b00e-4627-b7b4-69ff10b731aa",
   "metadata": {},
   "outputs": [],
   "source": [
    "# plot the label distribution for the training and development sets per language \n",
    "# (train/dev separate, but languages in same plot for a better comparison)"
   ]
  },
  {
   "cell_type": "markdown",
   "id": "34ae6257-7a71-41a8-9214-93226652c51b",
   "metadata": {},
   "source": [
    "## Length of Messages "
   ]
  },
  {
   "cell_type": "code",
   "execution_count": 5,
   "id": "94e043a0-2cb2-439c-ac9c-4045bb5193c5",
   "metadata": {},
   "outputs": [],
   "source": [
    "# plot the average length of messages across languages per train/dev set per label"
   ]
  },
  {
   "cell_type": "code",
   "execution_count": null,
   "id": "70fed689-c6f1-40fd-b59a-2b47846e6f20",
   "metadata": {},
   "outputs": [],
   "source": [
    "# plot the average length of messages per language per train/dev set per label"
   ]
  },
  {
   "cell_type": "markdown",
   "id": "45373691-dc71-4f09-8376-ae405a7ab740",
   "metadata": {},
   "source": [
    "# Inference\n",
    "\n",
    "Here, we show how to load a fine-tuned (Hugginface) model (our baseline) and perform inference on the development set. "
   ]
  },
  {
   "cell_type": "code",
   "execution_count": null,
   "id": "19b38951-0f1b-442a-82bb-6b440b4ea487",
   "metadata": {},
   "outputs": [],
   "source": [
    "# prepare the dev set data\n",
    "# load the model\n",
    "# do inference"
   ]
  },
  {
   "cell_type": "code",
   "execution_count": null,
   "id": "d18eb8a2-6aa2-4d11-a1e3-d12296804452",
   "metadata": {},
   "outputs": [],
   "source": [
    "# show some examples of predictions (preferably of several languages of several labels)"
   ]
  },
  {
   "cell_type": "code",
   "execution_count": null,
   "id": "34b356fb-2399-4615-b818-4b18fe7d8238",
   "metadata": {},
   "outputs": [],
   "source": [
    "# dump the predictions in a csv "
   ]
  },
  {
   "cell_type": "markdown",
   "id": "17802ddd-381d-4c09-93b6-2b3201510415",
   "metadata": {},
   "source": [
    "# Evaluation\n",
    "\n",
    "This is for showcasing how to evaluate the predictions using the same evaluation as on CodaLab. The predictions need to be stored in a CSV file and uploaded to CodaLab. Submissions will be ranked by non-weighted macro F1-score *across languages*. "
   ]
  },
  {
   "cell_type": "code",
   "execution_count": null,
   "id": "a8c16335-3f18-442e-8bf9-08a7807579fa",
   "metadata": {},
   "outputs": [],
   "source": [
    "# evaluate the predictions using the CodaLab eval script"
   ]
  },
  {
   "cell_type": "code",
   "execution_count": null,
   "id": "09c96568-1d42-49b3-b0f1-9489b69eb2af",
   "metadata": {},
   "outputs": [],
   "source": [
    "# show the resulting scores and a confusion matrix"
   ]
  },
  {
   "cell_type": "code",
   "execution_count": null,
   "id": "a67ea999-b6ee-474e-9c69-3dac1b2b6bcb",
   "metadata": {},
   "outputs": [],
   "source": [
    "# plot the scores across languages per label"
   ]
  },
  {
   "cell_type": "code",
   "execution_count": null,
   "id": "093a1548-9f41-4660-ac50-49e8736dba82",
   "metadata": {},
   "outputs": [],
   "source": [
    "# plot the scores per language and per label "
   ]
  }
 ],
 "metadata": {
  "kernelspec": {
   "display_name": "data_analysis",
   "language": "python",
   "name": "data_analysis"
  },
  "language_info": {
   "codemirror_mode": {
    "name": "ipython",
    "version": 3
   },
   "file_extension": ".py",
   "mimetype": "text/x-python",
   "name": "python",
   "nbconvert_exporter": "python",
   "pygments_lexer": "ipython3",
   "version": "3.10.14"
  }
 },
 "nbformat": 4,
 "nbformat_minor": 5
}
